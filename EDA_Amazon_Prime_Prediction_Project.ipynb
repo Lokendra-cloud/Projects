{
  "nbformat": 4,
  "nbformat_minor": 0,
  "metadata": {
    "colab": {
      "private_outputs": true,
      "provenance": [],
      "collapsed_sections": [
        "ILM16xV1PD8m",
        "bqVZBxrvPD8n",
        "yQaldy8SH6Dl",
        "mDgbUHAGgjLW",
        "Y3lxredqlCYt",
        "3RnN4peoiCZX",
        "x71ZqKXriCWQ",
        "7hBIi_osiCS2",
        "JlHwYmJAmNHm",
        "35m5QtbWiB9F",
        "PoPl-ycgm1ru",
        "H0kj-8xxnORC",
        "nA9Y7ga8ng1Z",
        "u3PMJOP6ngxN",
        "dauF4eBmngu3",
        "bKJF3rekwFvQ",
        "GF8Ens_Soomf",
        "NeriSDm0RM4Q",
        "Vq561cNLRz8-",
        "OckJxo1-SFYa",
        "CgtukJc1SRij",
        "gCX9965dhzqZ",
        "gIfDvo9L0UH2"
      ],
      "include_colab_link": true
    },
    "kernelspec": {
      "name": "python3",
      "display_name": "Python 3"
    },
    "language_info": {
      "name": "python"
    }
  },
  "cells": [
    {
      "cell_type": "markdown",
      "metadata": {
        "id": "view-in-github",
        "colab_type": "text"
      },
      "source": [
        "<a href=\"https://colab.research.google.com/github/Lokendra-cloud/Projects/blob/main/EDA_Amazon_Prime_Prediction_Project.ipynb\" target=\"_parent\"><img src=\"https://colab.research.google.com/assets/colab-badge.svg\" alt=\"Open In Colab\"/></a>"
      ]
    },
    {
      "cell_type": "markdown",
      "source": [
        "# **Project Name**    -  **Amazon Prime Prediction**\n",
        "\n"
      ],
      "metadata": {
        "id": "ILM16xV1PD8m"
      }
    },
    {
      "cell_type": "markdown",
      "source": [
        "##### **Project Type**    - Classification\n",
        "##### **Contribution**    - Individual\n"
      ],
      "metadata": {
        "id": "bqVZBxrvPD8n"
      }
    },
    {
      "cell_type": "markdown",
      "source": [
        "# **Problem Statement**\n"
      ],
      "metadata": {
        "id": "yQaldy8SH6Dl"
      }
    },
    {
      "cell_type": "markdown",
      "source": [
        "**BUSINESS PROBLEM OVERVIEW**\n",
        "\n",
        "\n",
        "**Objective:**\n",
        "\n",
        "The goal of Amazon Prime prediction is to identify users who are most likely to subscribe to (or renew) Amazon Prime services. This can be expanded to predict the likelihood of existing Prime users canceling their subscriptions.\n",
        "\n",
        "**Business Context:**\n",
        "\n",
        "Amazon Prime is a major revenue stream for Amazon, providing not only subscription income but also boosting customer retention and purchase frequency. Predicting user behavior around Prime subscriptions allows Amazon to:\n",
        "\n",
        "**1. Optimize Marketing Efforts:** Focus campaigns on users with high conversion potential.\n",
        "\n",
        "**2. Reduce Churn:** Identify users at risk of canceling and offer targeted incentives.\n",
        "\n",
        "**3. Personalize Offers:** Provide customized deals or trial offers to undecided users.\n",
        "\n",
        "**4. Inventory & Logistics Planning:** Anticipate demand for Prime-related perks like free shipping and same-day delivery.\n",
        "\n"
      ],
      "metadata": {
        "id": "jivUA-ONOwse"
      }
    },
    {
      "cell_type": "markdown",
      "source": [
        "# **General Guidelines** : -  "
      ],
      "metadata": {
        "id": "mDgbUHAGgjLW"
      }
    },
    {
      "cell_type": "markdown",
      "source": [
        "1.   Well-structured, formatted, and commented code is required.\n",
        "2.   Exception Handling, Production Grade Code & Deployment Ready Code will be a plus. Those students will be awarded some additional credits.\n",
        "     \n",
        "     The additional credits will have advantages over other students during Star Student selection.\n",
        "       \n",
        "             [ Note: - Deployment Ready Code is defined as, the whole .ipynb notebook should be executable in one go\n",
        "                       without a single error logged. ]\n",
        "\n",
        "3.   Each and every logic should have proper comments.\n",
        "4. You may add as many number of charts you want. Make Sure for each and every chart the following format should be answered.\n",
        "        \n",
        "\n",
        "```\n",
        "# Chart visualization code\n",
        "```\n",
        "            \n",
        "\n",
        "*   Why did you pick the specific chart?\n",
        "*   What is/are the insight(s) found from the chart?\n",
        "* Will the gained insights help creating a positive business impact?\n",
        "Are there any insights that lead to negative growth? Justify with specific reason.\n",
        "\n",
        "5. You have to create at least 15 logical & meaningful charts having important insights.\n",
        "\n",
        "\n",
        "[ Hints : - Do the Vizualization in  a structured way while following \"UBM\" Rule.\n",
        "\n",
        "U - Univariate Analysis,\n",
        "\n",
        "B - Bivariate Analysis (Numerical - Categorical, Numerical - Numerical, Categorical - Categorical)\n",
        "\n",
        "M - Multivariate Analysis\n",
        " ]\n",
        "\n",
        "\n",
        "\n",
        "\n",
        "\n",
        "6. You may add more ml algorithms for model creation. Make sure for each and every algorithm, the following format should be answered.\n",
        "\n",
        "\n",
        "*   Explain the ML Model used and it's performance using Evaluation metric Score Chart.\n",
        "\n",
        "\n",
        "*   Cross- Validation & Hyperparameter Tuning\n",
        "\n",
        "*   Have you seen any improvement? Note down the improvement with updates Evaluation metric Score Chart.\n",
        "\n",
        "*   Explain each evaluation metric's indication towards business and the business impact pf the ML model used.\n",
        "\n",
        "\n",
        "\n",
        "\n",
        "\n",
        "\n",
        "\n",
        "\n",
        "\n",
        "\n",
        "\n",
        "\n",
        "\n",
        "\n",
        "\n",
        "\n",
        "\n",
        "\n"
      ],
      "metadata": {
        "id": "ZrxVaUj-hHfC"
      }
    },
    {
      "cell_type": "markdown",
      "source": [
        "# ***Let's Begin !***"
      ],
      "metadata": {
        "id": "O_i_v8NEhb9l"
      }
    },
    {
      "cell_type": "markdown",
      "source": [
        "## ***1. Know Your Data***"
      ],
      "metadata": {
        "id": "HhfV-JJviCcP"
      }
    },
    {
      "cell_type": "markdown",
      "source": [
        "### Import Libraries"
      ],
      "metadata": {
        "id": "Y3lxredqlCYt"
      }
    },
    {
      "cell_type": "code",
      "source": [
        "# Import Libraries\n",
        "import numpy as np\n",
        "import pandas as pd\n",
        "import os\n",
        "import seaborn as sns\n",
        "from collections import Counter\n",
        "import ast\n",
        "import matplotlib.pyplot as plt"
      ],
      "metadata": {
        "id": "M8Vqi-pPk-HR"
      },
      "execution_count": null,
      "outputs": []
    },
    {
      "cell_type": "markdown",
      "source": [
        "### Dataset Loading"
      ],
      "metadata": {
        "id": "3RnN4peoiCZX"
      }
    },
    {
      "cell_type": "code",
      "source": [
        "# Load Dataset\n",
        "from google.colab import drive\n",
        "drive.mount('/content/drive')"
      ],
      "metadata": {
        "id": "4CkvbW_SlZ_R"
      },
      "execution_count": null,
      "outputs": []
    },
    {
      "cell_type": "code",
      "source": [
        "# Setting up directory helps access the files easily.\n",
        "os.chdir('/content/drive/MyDrive/M2_Project_Amazon_Prime')\n",
        "os.getcwd()    # Get current working directory\n",
        "!ls            # # Command to see the folder available"
      ],
      "metadata": {
        "id": "CEhiayUv1809"
      },
      "execution_count": null,
      "outputs": []
    },
    {
      "cell_type": "code",
      "source": [
        "# Reading Dataset-1\n",
        "read_credits = pd.read_csv('credits.csv')\n",
        "\n",
        "# Reading Dataset-2\n",
        "read_titles = pd.read_csv('titles.csv')"
      ],
      "metadata": {
        "id": "VOydc2kbV83Y"
      },
      "execution_count": null,
      "outputs": []
    },
    {
      "cell_type": "markdown",
      "source": [
        "### Dataset First View"
      ],
      "metadata": {
        "id": "x71ZqKXriCWQ"
      }
    },
    {
      "cell_type": "code",
      "source": [
        "# Dataset First - 1\n",
        "read_credits.head()"
      ],
      "metadata": {
        "id": "LWNFOSvLl09H"
      },
      "execution_count": null,
      "outputs": []
    },
    {
      "cell_type": "code",
      "source": [
        "# Dataset First - 2\n",
        "read_titles.head()\n"
      ],
      "metadata": {
        "id": "E1zvyq17W_mv"
      },
      "execution_count": null,
      "outputs": []
    },
    {
      "cell_type": "markdown",
      "source": [
        "### Dataset Rows & Columns count"
      ],
      "metadata": {
        "id": "7hBIi_osiCS2"
      }
    },
    {
      "cell_type": "code",
      "source": [
        "# Dataset-1 Rows & Columns\n",
        "read_credits.shape"
      ],
      "metadata": {
        "id": "Kllu7SJgmLij"
      },
      "execution_count": null,
      "outputs": []
    },
    {
      "cell_type": "code",
      "source": [
        "# Dataset-2 Rows & Columns\n",
        "read_titles.shape"
      ],
      "metadata": {
        "id": "RpHmNmZ0XV_O"
      },
      "execution_count": null,
      "outputs": []
    },
    {
      "cell_type": "markdown",
      "source": [
        "### Dataset Information"
      ],
      "metadata": {
        "id": "JlHwYmJAmNHm"
      }
    },
    {
      "cell_type": "code",
      "source": [
        "# Dataset-1 Info\n",
        "read_credits.info()"
      ],
      "metadata": {
        "id": "e9hRXRi6meOf"
      },
      "execution_count": null,
      "outputs": []
    },
    {
      "cell_type": "code",
      "source": [
        "# Dataset-2 Info\n",
        "read_titles.info()"
      ],
      "metadata": {
        "id": "jCV9ra3AX8ak"
      },
      "execution_count": null,
      "outputs": []
    },
    {
      "cell_type": "markdown",
      "source": [
        "#### Duplicate Values"
      ],
      "metadata": {
        "id": "35m5QtbWiB9F"
      }
    },
    {
      "cell_type": "code",
      "source": [
        "# Dataset-1(Credits) Duplicate Value Count\n",
        "len(read_credits[read_credits.duplicated()])"
      ],
      "metadata": {
        "id": "1sLdpKYkmox0"
      },
      "execution_count": null,
      "outputs": []
    },
    {
      "cell_type": "code",
      "source": [
        "# Dataset-2(titles) Duplicate Value Count\n",
        "len(read_titles[read_titles.duplicated()])"
      ],
      "metadata": {
        "id": "Y8LZAtn-p8BT"
      },
      "execution_count": null,
      "outputs": []
    },
    {
      "cell_type": "markdown",
      "source": [
        "#### Missing Values/Null Values"
      ],
      "metadata": {
        "id": "PoPl-ycgm1ru"
      }
    },
    {
      "cell_type": "code",
      "source": [
        "# Missing Values/Null Values Count(Dataset-1(Credits))\n",
        "print(read_credits.isnull().sum())"
      ],
      "metadata": {
        "id": "GgHWkxvamxVg"
      },
      "execution_count": null,
      "outputs": []
    },
    {
      "cell_type": "code",
      "source": [
        "# Missing Values/Null Values Count(Dataset-2(titles))\n",
        "print(read_titles.isnull().sum())"
      ],
      "metadata": {
        "id": "4fP3cfVPt4Sa"
      },
      "execution_count": null,
      "outputs": []
    },
    {
      "cell_type": "code",
      "source": [
        "# Visualizing the missing values(Dataset-1(Credits))\n",
        "# Checking Null Value by plotting Heatmap\n",
        "sns.heatmap(read_credits.isnull(), cbar=False)"
      ],
      "metadata": {
        "id": "3q5wnI3om9sJ"
      },
      "execution_count": null,
      "outputs": []
    },
    {
      "cell_type": "code",
      "source": [
        "# Visualizing the missing values(Dataset-2(titles))\n",
        "# Checking Null Value by plotting Heatmap\n",
        "sns.heatmap(read_titles.isnull(), cbar=False)"
      ],
      "metadata": {
        "id": "Sb1rtGkxuO0n"
      },
      "execution_count": null,
      "outputs": []
    },
    {
      "cell_type": "markdown",
      "source": [
        "### What did you know about your dataset?"
      ],
      "metadata": {
        "id": "H0kj-8xxnORC"
      }
    },
    {
      "cell_type": "markdown",
      "source": [
        "The dataset given is a dataset from Entertainment and Media industry, and we have to analysis the Content Diversity, Regional Availability, Trends Over Time & IMDb Ratings & Popularity.\n",
        "\n",
        "Amazon Prime prediction is analytical studies on the possibility of a customer abandoning a product or service. The goal is to understand and take steps to change it before the costumer gives up the product or service.\n",
        "\n",
        "The above dataset-1(Credits) has 124235 rows and 5 columns & dataset-2(titles) has 9871 rows and 15 columns."
      ],
      "metadata": {
        "id": "gfoNAAC-nUe_"
      }
    },
    {
      "cell_type": "markdown",
      "source": [
        "## ***2. Understanding Your Variables***"
      ],
      "metadata": {
        "id": "nA9Y7ga8ng1Z"
      }
    },
    {
      "cell_type": "code",
      "source": [
        "# Dataset-1 Columns(Credits)\n",
        "read_credits.columns"
      ],
      "metadata": {
        "id": "n87BaXA_42-R"
      },
      "execution_count": null,
      "outputs": []
    },
    {
      "cell_type": "code",
      "source": [
        "# Dataset-2 Columns(titles)\n",
        "read_titles.columns"
      ],
      "metadata": {
        "id": "c4Lee82Fvi0j"
      },
      "execution_count": null,
      "outputs": []
    },
    {
      "cell_type": "code",
      "source": [
        "# Dataset-1 Describe(Credits)\n",
        "read_credits.describe(include='all')"
      ],
      "metadata": {
        "id": "DnOaZdaE5Q5t"
      },
      "execution_count": null,
      "outputs": []
    },
    {
      "cell_type": "code",
      "source": [
        "# Dataset-2 Describe(titles)\n",
        "read_titles.describe(include='all')"
      ],
      "metadata": {
        "id": "UAmzT_Q_vkBo"
      },
      "execution_count": null,
      "outputs": []
    },
    {
      "cell_type": "markdown",
      "source": [
        "### Check Unique Values for each variable."
      ],
      "metadata": {
        "id": "u3PMJOP6ngxN"
      }
    },
    {
      "cell_type": "code",
      "source": [
        "# Check Unique Values for each variable(Credits).\n",
        "for i in read_credits.columns.tolist():\n",
        "  print(\"No. of unique values in \",i,\"is\",read_credits[i].nunique(),\".\")"
      ],
      "metadata": {
        "id": "hQLFIt-Wwg-2"
      },
      "execution_count": null,
      "outputs": []
    },
    {
      "cell_type": "code",
      "source": [
        "# Check Unique Values for each variable(titles).\n",
        "for i in read_titles.columns.tolist():\n",
        "  print(\"No. of unique values in \",i,\"is\",read_titles[i].nunique(),\".\")"
      ],
      "metadata": {
        "id": "zms12Yq5n-jE"
      },
      "execution_count": null,
      "outputs": []
    },
    {
      "cell_type": "markdown",
      "source": [
        "## 3. ***Data Wrangling***"
      ],
      "metadata": {
        "id": "dauF4eBmngu3"
      }
    },
    {
      "cell_type": "markdown",
      "source": [
        "### Data Wrangling Code"
      ],
      "metadata": {
        "id": "bKJF3rekwFvQ"
      }
    },
    {
      "cell_type": "markdown",
      "source": [
        "### Content Diversity Analysis"
      ],
      "metadata": {
        "id": "r1mWcryZmbNa"
      }
    },
    {
      "cell_type": "code",
      "source": [
        "# Write your code to make your dataset analysis ready.\n",
        "# Create a copy of the current dataset and assigning to read_titles_copy\n",
        "read_credits_copy = read_credits.copy()\n",
        "read_titles_copy = read_titles.copy()\n",
        "\n",
        "# Checking Shape of True Value\n",
        "read_credits_copy.shape\n",
        "read_titles_copy.shape"
      ],
      "metadata": {
        "id": "QCzktren23t1"
      },
      "execution_count": null,
      "outputs": []
    },
    {
      "cell_type": "code",
      "source": [
        "# 1. Genre Distribution\n",
        "all_genres = [genre for sublist in read_titles_copy['genres'] for genre in sublist]\n",
        "genre_counts = Counter(all_genres)\n",
        "top_genres = pd.DataFrame(genre_counts.items(), columns=['Genre', 'Count']).sort_values(by='Count', ascending=False)\n",
        "print(top_genres)"
      ],
      "metadata": {
        "id": "cxOgerVOnrwq"
      },
      "execution_count": null,
      "outputs": []
    },
    {
      "cell_type": "code",
      "source": [
        "# 2. Type Analysis (Movie vs. Show)\n",
        "type_distribution = read_titles_copy['type'].value_counts().reset_index()\n",
        "type_distribution.columns = ['Type', 'Count']"
      ],
      "metadata": {
        "id": "0l96bQdEoFGa"
      },
      "execution_count": null,
      "outputs": []
    },
    {
      "cell_type": "code",
      "source": [
        "# 3. Multi-genre Analysis\n",
        "read_titles_copy['genre_count'] = read_titles_copy['genres'].apply(len)\n",
        "multi_genre_distribution = read_titles_copy['genre_count'].value_counts().reset_index()\n",
        "multi_genre_distribution.columns = ['Number of Genres', 'Count']"
      ],
      "metadata": {
        "id": "YxTI_6RSoZK-"
      },
      "execution_count": null,
      "outputs": []
    },
    {
      "cell_type": "markdown",
      "source": [
        "### Regional Availability Analysis"
      ],
      "metadata": {
        "id": "JLtoy1xVChKh"
      }
    },
    {
      "cell_type": "markdown",
      "source": [
        "1. **Count Titles Available per Production Country :**\n",
        "\n",
        "    We'll parse the production_countries column (which contains lists in string format) and count the number of titles per country."
      ],
      "metadata": {
        "id": "PNneeUZlEJf1"
      }
    },
    {
      "cell_type": "code",
      "source": [
        "# Write your code to make your dataset analysis ready.\n",
        "# Create a copy of the current dataset and assigning to read_titles_copy\n",
        "read_credits_copy = read_credits.copy()\n",
        "read_titles_copy = read_titles.copy()\n",
        "\n",
        "# Checking Shape of True Value\n",
        "read_credits_copy.shape\n",
        "read_titles_copy.shape"
      ],
      "metadata": {
        "id": "roh9vXTrIdC7"
      },
      "execution_count": null,
      "outputs": []
    },
    {
      "cell_type": "code",
      "source": [
        "# Convert 'production_countries' column from string representation of list to actual list\n",
        "read_titles_copy['production_countries'] = read_titles_copy['production_countries'].apply(ast.literal_eval)"
      ],
      "metadata": {
        "id": "kOZ3YC0SDMxv"
      },
      "execution_count": null,
      "outputs": []
    },
    {
      "cell_type": "code",
      "source": [
        "# Explode the 'production_countries' column so each country gets its own row\n",
        "countries_exploded = read_titles_copy.explode('production_countries')"
      ],
      "metadata": {
        "id": "OJmDXW5sDtOZ"
      },
      "execution_count": null,
      "outputs": []
    },
    {
      "cell_type": "code",
      "source": [
        "# Count titles per country\n",
        "titles_per_country = countries_exploded['production_countries'].value_counts().reset_index()\n",
        "titles_per_country.columns = ['country', 'title_count']"
      ],
      "metadata": {
        "id": "aSZ6pb6UDyXE"
      },
      "execution_count": null,
      "outputs": []
    },
    {
      "cell_type": "code",
      "source": [
        "# Count the number of titles per country\n",
        "country_counts = countries_exploded['production_countries'].value_counts().head(15)"
      ],
      "metadata": {
        "id": "HNm22gerVSuc"
      },
      "execution_count": null,
      "outputs": []
    },
    {
      "cell_type": "code",
      "source": [
        "# Display top 10 countries by number of titles\n",
        "print(titles_per_country.head(10))"
      ],
      "metadata": {
        "id": "p2vm2FqxD4wZ"
      },
      "execution_count": null,
      "outputs": []
    },
    {
      "cell_type": "markdown",
      "source": [
        "2. **Analyze Genre Distribution by Country :**\n",
        "\n",
        "    We'll explode the genres and countries, and then count the occurrences of each genre per country."
      ],
      "metadata": {
        "id": "Db_vE9STErIe"
      }
    },
    {
      "cell_type": "code",
      "source": [
        "# Write your code to make your dataset analysis ready.\n",
        "# Create a copy of the current dataset and assigning to read_titles_copy\n",
        "read_credits_copy = read_credits.copy()\n",
        "read_titles_copy = read_titles.copy()\n",
        "\n",
        "# Checking Shape of True Value\n",
        "read_credits_copy.shape\n",
        "read_titles_copy.shape"
      ],
      "metadata": {
        "id": "Vyj7YSfwIi7J"
      },
      "execution_count": null,
      "outputs": []
    },
    {
      "cell_type": "code",
      "source": [
        "# Convert string representations of lists to actual Python lists\n",
        "read_titles_copy['production_countries'] = read_titles_copy['production_countries'].apply(ast.literal_eval)\n",
        "read_titles_copy['genres'] = read_titles_copy['genres'].apply(ast.literal_eval)"
      ],
      "metadata": {
        "id": "5LlTVBj8E-Dc"
      },
      "execution_count": null,
      "outputs": []
    },
    {
      "cell_type": "code",
      "source": [
        "# Explode both 'production_countries' and 'genres' columns\n",
        "exploded_read_titles = read_titles_copy.explode('production_countries').explode('genres')"
      ],
      "metadata": {
        "id": "Fc8Ju1d8FfxZ"
      },
      "execution_count": null,
      "outputs": []
    },
    {
      "cell_type": "code",
      "source": [
        "# Group by country and genre, then count occurrences\n",
        "genre_distribution = exploded_read_titles.groupby(['production_countries', 'genres']).size().reset_index(name='count')"
      ],
      "metadata": {
        "id": "PXD7h9CFFrTR"
      },
      "execution_count": null,
      "outputs": []
    },
    {
      "cell_type": "code",
      "source": [
        "# Display the top 10 country-genre combinations\n",
        "print(genre_distribution.sort_values(by='count', ascending=False).head(10))"
      ],
      "metadata": {
        "id": "x0r2NL98F3VY"
      },
      "execution_count": null,
      "outputs": []
    },
    {
      "cell_type": "markdown",
      "source": [
        "3. **Highlight Countries Producing the Most High-Rated Content**\n",
        "\n",
        "    We’ll define \"high-rated\" as having an IMDb score ≥ 7.5, and then count such titles per country."
      ],
      "metadata": {
        "id": "IK30utRyGIGt"
      }
    },
    {
      "cell_type": "code",
      "source": [
        "# Write your code to make your dataset analysis ready.\n",
        "# Create a copy of the current dataset and assigning to read_titles_copy\n",
        "read_credits_copy = read_credits.copy()\n",
        "read_titles_copy = read_titles.copy()\n",
        "\n",
        "# Checking Shape of True Value\n",
        "read_credits_copy.shape\n",
        "read_titles_copy.shape"
      ],
      "metadata": {
        "id": "d0PNGXnoIo0f"
      },
      "execution_count": null,
      "outputs": []
    },
    {
      "cell_type": "code",
      "source": [
        "# Convert 'production_countries' from string to list\n",
        "read_titles_copy['production_countries'] = read_titles_copy['production_countries'].apply(ast.literal_eval)"
      ],
      "metadata": {
        "id": "_klNBiAxG2X8"
      },
      "execution_count": null,
      "outputs": []
    },
    {
      "cell_type": "code",
      "source": [
        "# Filter titles with IMDb score >= 7.5\n",
        "high_rated_df = read_titles_copy[read_titles_copy['imdb_score'] >= 7.5]"
      ],
      "metadata": {
        "id": "HnEyBR4WIDZ2"
      },
      "execution_count": null,
      "outputs": []
    },
    {
      "cell_type": "code",
      "source": [
        "# Explode 'production_countries' so each country is in a separate row\n",
        "high_rated_exploded = high_rated_df.explode('production_countries')"
      ],
      "metadata": {
        "id": "gTd9YA8nINln"
      },
      "execution_count": null,
      "outputs": []
    },
    {
      "cell_type": "code",
      "source": [
        "# Count high-rated titles per country\n",
        "high_rated_counts = high_rated_exploded['production_countries'].value_counts().reset_index()\n",
        "high_rated_counts.columns = ['country', 'high_rated_title_count']"
      ],
      "metadata": {
        "id": "mqPjw_f_IRit"
      },
      "execution_count": null,
      "outputs": []
    },
    {
      "cell_type": "code",
      "source": [
        "# Display top 10 countries by high-rated title count\n",
        "print(high_rated_counts.head(10))"
      ],
      "metadata": {
        "id": "BncF1GcLIVTE"
      },
      "execution_count": null,
      "outputs": []
    },
    {
      "cell_type": "markdown",
      "source": [
        "### Trends Over Time Analysis"
      ],
      "metadata": {
        "id": "JVSGRTESLLFH"
      }
    },
    {
      "cell_type": "markdown",
      "source": [
        "**1. Number of Releases per Year:**\n",
        "\n",
        "    There's a clear growth trend in the number of releases, peaking around recent years, with some fluctuations."
      ],
      "metadata": {
        "id": "Kwb7a3q0LRaY"
      }
    },
    {
      "cell_type": "code",
      "source": [
        "# Write your code to make your dataset analysis ready.\n",
        "# Create a copy of the current dataset and assigning to read_titles_copy\n",
        "read_credits_copy = read_credits.copy()\n",
        "read_titles_copy = read_titles.copy()\n",
        "\n",
        "# Checking Shape of True Value\n",
        "read_credits_copy.shape\n",
        "read_titles_copy.shape"
      ],
      "metadata": {
        "id": "7CrEe0Y3LcQ2"
      },
      "execution_count": null,
      "outputs": []
    },
    {
      "cell_type": "code",
      "source": [
        "# Count number of titles released per year\n",
        "releases_per_year = read_titles_copy['release_year'].value_counts().sort_index()\n",
        "print(releases_per_year.head())"
      ],
      "metadata": {
        "id": "aCfrhvMQLzRF"
      },
      "execution_count": null,
      "outputs": []
    },
    {
      "cell_type": "markdown",
      "source": [
        "**2. Genre Evolution:**\n",
        "\n",
        "    Genres like Drama, Comedy, and Documentary show consistent prominence, with visible shifts in their frequency over time."
      ],
      "metadata": {
        "id": "BWhZgwW7Mb0e"
      }
    },
    {
      "cell_type": "code",
      "source": [
        "# Convert 'genres' from string to list\n",
        "read_titles_copy['genres'] = read_titles_copy['genres'].apply(ast.literal_eval)"
      ],
      "metadata": {
        "id": "O08Sk9kAMjZx"
      },
      "execution_count": null,
      "outputs": []
    },
    {
      "cell_type": "code",
      "source": [
        "# Explode the genres column so each genre is in a separate row\n",
        "genre_year_df = read_titles_copy.explode('genres')"
      ],
      "metadata": {
        "id": "63nIR5jKMtrG"
      },
      "execution_count": null,
      "outputs": []
    },
    {
      "cell_type": "code",
      "source": [
        "# Group by year and genre, count the number of titles\n",
        "genre_trend = genre_year_df.groupby(['release_year', 'genres']).size().unstack(fill_value=0)"
      ],
      "metadata": {
        "id": "iN0aXTt1MxL-"
      },
      "execution_count": null,
      "outputs": []
    },
    {
      "cell_type": "code",
      "source": [
        "# Select top 5 most frequent genres for clarity\n",
        "top_genres = genre_trend.sum().sort_values(ascending=False).head(5).index\n",
        "filtered_genre_trend = genre_trend[top_genres]\n",
        "print(filtered_genre_trend.head(5))"
      ],
      "metadata": {
        "id": "LzTqee35MywB"
      },
      "execution_count": null,
      "outputs": []
    },
    {
      "cell_type": "markdown",
      "source": [
        "**3. IMDb Score Trend:**\n",
        "  \n",
        "    The average IMDb score has remained relatively stable, with slight variations, indicating consistent quality perception over time."
      ],
      "metadata": {
        "id": "v6V8QHg7NOeQ"
      }
    },
    {
      "cell_type": "code",
      "source": [
        "# Group by release year and calculate average IMDb score\n",
        "imdb_score_trend = read_titles_copy.groupby('release_year')['imdb_score'].mean()\n",
        "print(imdb_score_trend.head())"
      ],
      "metadata": {
        "id": "p9lJ0T3yNZFG"
      },
      "execution_count": null,
      "outputs": []
    },
    {
      "cell_type": "markdown",
      "source": [
        "### IMDb Ratings & Popularity Analysis"
      ],
      "metadata": {
        "id": "E5rHv9Y6OKfE"
      }
    },
    {
      "cell_type": "markdown",
      "source": [
        "**1. Top-Rated Titles by IMDb Score**"
      ],
      "metadata": {
        "id": "-b3Qv_KzOeEg"
      }
    },
    {
      "cell_type": "code",
      "source": [
        "# Select relevant columns and drop rows with missing IMDb scores\n",
        "top_imdb_df = read_titles_copy[['title', 'imdb_score', 'imdb_votes', 'release_year']].dropna(subset=['imdb_score'])"
      ],
      "metadata": {
        "id": "HENLBVEzOOM-"
      },
      "execution_count": null,
      "outputs": []
    },
    {
      "cell_type": "code",
      "source": [
        "# Filter to ensure a reasonable number of votes (e.g., avoid titles with very few votes skewing the rating)\n",
        "top_imdb_df = top_imdb_df[top_imdb_df['imdb_votes'] > 100]"
      ],
      "metadata": {
        "id": "6Vd-8PvOOrni"
      },
      "execution_count": null,
      "outputs": []
    },
    {
      "cell_type": "code",
      "source": [
        "# Sort by IMDb score and then by number of votes\n",
        "top_imdb_df = top_imdb_df.sort_values(by=['imdb_score', 'imdb_votes'], ascending=[False, False])"
      ],
      "metadata": {
        "id": "bE3V9bK1OuH4"
      },
      "execution_count": null,
      "outputs": []
    },
    {
      "cell_type": "code",
      "source": [
        "# Select top 10 titles\n",
        "top_10_imdb = top_imdb_df.head(10)\n",
        "print(top_10_imdb)"
      ],
      "metadata": {
        "id": "GaHEqLNIOyTQ"
      },
      "execution_count": null,
      "outputs": []
    },
    {
      "cell_type": "markdown",
      "source": [
        "**2. Top-Rated Titles by TMDb Score**"
      ],
      "metadata": {
        "id": "WOlY-9H0PDQW"
      }
    },
    {
      "cell_type": "code",
      "source": [
        "# Select relevant columns and drop rows with missing TMDb scores\n",
        "top_tmdb_df = read_titles_copy[['title', 'tmdb_score', 'tmdb_popularity', 'release_year']].dropna(subset=['tmdb_score'])"
      ],
      "metadata": {
        "id": "UWBigwuhPSg0"
      },
      "execution_count": null,
      "outputs": []
    },
    {
      "cell_type": "code",
      "source": [
        "# Sort by TMDb score and then by popularity\n",
        "top_tmdb_df = top_tmdb_df.sort_values(by=['tmdb_score', 'tmdb_popularity'], ascending=[False, False])"
      ],
      "metadata": {
        "id": "tPdm7y38PWLt"
      },
      "execution_count": null,
      "outputs": []
    },
    {
      "cell_type": "code",
      "source": [
        "# Select top 10 titles\n",
        "top_10_tmdb = top_tmdb_df.head(10)\n",
        "print(top_10_tmdb)"
      ],
      "metadata": {
        "id": "bJ8abtxPPi-M"
      },
      "execution_count": null,
      "outputs": []
    },
    {
      "cell_type": "markdown",
      "source": [
        "## ***4. Data Vizualization, Storytelling & Experimenting with charts : Understand the relationships between variables***"
      ],
      "metadata": {
        "id": "GF8Ens_Soomf"
      }
    },
    {
      "cell_type": "markdown",
      "source": [
        "### Content Diversity Analysis"
      ],
      "metadata": {
        "id": "NeriSDm0RM4Q"
      }
    },
    {
      "cell_type": "code",
      "source": [
        "# Write your code to make your dataset analysis ready.\n",
        "# Create a copy of the current dataset and assigning to read_titles_copy\n",
        "read_credits_copy = read_credits.copy()\n",
        "read_titles_copy = read_titles.copy()\n",
        "\n",
        "# Checking Shape of True Value\n",
        "read_credits_copy.shape\n",
        "read_titles_copy.shape"
      ],
      "metadata": {
        "id": "itckNyksRM4R"
      },
      "execution_count": null,
      "outputs": []
    },
    {
      "cell_type": "markdown",
      "source": [
        "**1. Genre Distribution**"
      ],
      "metadata": {
        "id": "BUqB94Zcl5H2"
      }
    },
    {
      "cell_type": "code",
      "source": [
        "read_titles_copy['genres'] = read_titles_copy['genres'].apply(ast.literal_eval)\n",
        "genre_df = read_titles_copy.explode('genres')\n",
        "genre_counts = genre_df['genres'].value_counts()"
      ],
      "metadata": {
        "id": "AF25NvPRli0i"
      },
      "execution_count": null,
      "outputs": []
    },
    {
      "cell_type": "code",
      "source": [
        "plt.figure(figsize=(12, 6))\n",
        "sns.barplot(x=genre_counts.values, y=genre_counts.index, palette='muted')\n",
        "plt.title('Overall Genre Distribution')\n",
        "plt.xlabel('Number of Titles')\n",
        "plt.ylabel('Genre')\n",
        "plt.tight_layout()\n",
        "plt.show()"
      ],
      "metadata": {
        "id": "L7x2ZT2mlU_j"
      },
      "execution_count": null,
      "outputs": []
    },
    {
      "cell_type": "markdown",
      "source": [
        "**2. Type Analysis (Movie vs. Show)**"
      ],
      "metadata": {
        "id": "wqpriQSxmHKw"
      }
    },
    {
      "cell_type": "code",
      "source": [
        "# Fill missing types if any\n",
        "read_titles_copy['type'] = read_titles_copy['type'].fillna('Unknown')\n",
        "\n",
        "# Count types\n",
        "type_counts = read_titles_copy['type'].value_counts()\n",
        "\n",
        "# Display counts\n",
        "print(\"Content Type Counts:\\n\", type_counts)"
      ],
      "metadata": {
        "id": "YFpilUrjRM4T"
      },
      "execution_count": null,
      "outputs": []
    },
    {
      "cell_type": "code",
      "source": [
        "# Plotting\n",
        "plt.figure(figsize=(6, 6))\n",
        "type_counts.plot.pie(autopct='%1.1f%%', startangle=90, colors=sns.color_palette('pastel'))\n",
        "plt.title('Content Type Distribution (Movie vs. Show)')\n",
        "plt.ylabel('')\n",
        "plt.tight_layout()\n",
        "plt.show()"
      ],
      "metadata": {
        "id": "JzeniEjLmeCQ"
      },
      "execution_count": null,
      "outputs": []
    },
    {
      "cell_type": "markdown",
      "source": [
        "**3. Multi-genre Analysis**"
      ],
      "metadata": {
        "id": "prvJsUDBmu06"
      }
    },
    {
      "cell_type": "code",
      "source": [
        "# Write your code to make your dataset analysis ready.\n",
        "# Create a copy of the current dataset and assigning to read_titles_copy\n",
        "read_credits_copy = read_credits.copy()\n",
        "read_titles_copy = read_titles.copy()"
      ],
      "metadata": {
        "id": "kuhqaz5uoAOY"
      },
      "execution_count": null,
      "outputs": []
    },
    {
      "cell_type": "code",
      "source": [
        "# Convert 'genres' column to list\n",
        "read_titles_copy['genres'] = read_titles_copy['genres'].apply(ast.literal_eval)\n",
        "\n",
        "# Count number of genres per title\n",
        "read_titles_copy['num_genres'] = read_titles_copy['genres'].apply(len)"
      ],
      "metadata": {
        "id": "I5KY19h6m1xE"
      },
      "execution_count": null,
      "outputs": []
    },
    {
      "cell_type": "code",
      "source": [
        "# Plotting\n",
        "plt.figure(figsize=(8, 4))\n",
        "sns.histplot(read_titles_copy['num_genres'], bins=range(1, read_titles_copy['num_genres'].max() + 2), discrete=True)\n",
        "plt.title('Number of Genres per Title')\n",
        "plt.xlabel('Genres per Title')\n",
        "plt.ylabel('Number of Titles')\n",
        "plt.tight_layout()\n",
        "plt.show()"
      ],
      "metadata": {
        "id": "VCd84HFZnYsS"
      },
      "execution_count": null,
      "outputs": []
    },
    {
      "cell_type": "markdown",
      "source": [
        "### Regional Availability Analysis"
      ],
      "metadata": {
        "id": "Vq561cNLRz8-"
      }
    },
    {
      "cell_type": "markdown",
      "source": [
        "1. **Count Titles Available per Production Country :**\n",
        "\n",
        "    We'll parse the production_countries column (which contains lists in string format) and count the number of titles per country."
      ],
      "metadata": {
        "id": "AJcGhdyRRz8_"
      }
    },
    {
      "cell_type": "code",
      "source": [
        "# Plotting\n",
        "plt.figure(figsize=(12, 6))\n",
        "sns.barplot(x=country_counts.values, y=country_counts.index, palette='coolwarm')\n",
        "plt.title('Number of Titles per Production Country (Top 15)')\n",
        "plt.xlabel('Number of Titles')\n",
        "plt.ylabel('Country')\n",
        "plt.tight_layout()\n",
        "plt.show()"
      ],
      "metadata": {
        "id": "G6K9ZApxRz9A"
      },
      "execution_count": null,
      "outputs": []
    },
    {
      "cell_type": "markdown",
      "source": [
        "2. **Analyze Genre Distribution by Country :**\n",
        "\n",
        "    We'll explode the genres and countries, and then count the occurrences of each genre per country."
      ],
      "metadata": {
        "id": "8cvRexkoRz9E"
      }
    },
    {
      "cell_type": "code",
      "source": [
        "# Group by country and genre, then count\n",
        "genre_country_counts = exploded_read_titles.groupby(['production_countries', 'genres']).size().unstack(fill_value=0)"
      ],
      "metadata": {
        "id": "n5xyYo1AWIRX"
      },
      "execution_count": null,
      "outputs": []
    },
    {
      "cell_type": "code",
      "source": [
        "# Optional: limit to top countries and genres for clearer plot\n",
        "top_countries = genre_country_counts.sum(axis=1).sort_values(ascending=False).head(10).index\n",
        "top_genres = genre_country_counts.sum().sort_values(ascending=False).head(10).index\n",
        "filtered_data = genre_country_counts.loc[top_countries, top_genres]"
      ],
      "metadata": {
        "id": "5AaTA9IpWDjV"
      },
      "execution_count": null,
      "outputs": []
    },
    {
      "cell_type": "code",
      "source": [
        "# Plotting heatmap\n",
        "plt.figure(figsize=(12, 8))\n",
        "sns.heatmap(filtered_data, annot=True, fmt='d', cmap='YlGnBu')\n",
        "plt.title('Genre Distribution by Country (Top 10 Countries & Genres)')\n",
        "plt.xlabel('Genre')\n",
        "plt.ylabel('Production Country')\n",
        "plt.tight_layout()\n",
        "plt.show()"
      ],
      "metadata": {
        "id": "jgchOmdFRz9E"
      },
      "execution_count": null,
      "outputs": []
    },
    {
      "cell_type": "markdown",
      "source": [
        "3. **Highlight Countries Producing the Most High-Rated Content**\n",
        "\n",
        "    We’ll define \"high-rated\" as having an IMDb score ≥ 7.5, and then count such titles per country."
      ],
      "metadata": {
        "id": "O8Ir7yJyRz9M"
      }
    },
    {
      "cell_type": "code",
      "source": [
        "# Filter out rows with missing IMDb scores\n",
        "country_scores_df = high_rated_exploded.dropna(subset=['imdb_score'])"
      ],
      "metadata": {
        "id": "w0KKbMqnRz9T"
      },
      "execution_count": null,
      "outputs": []
    },
    {
      "cell_type": "code",
      "source": [
        "# Group by country and calculate average IMDb score and count of titles\n",
        "country_rating_stats = country_scores_df.groupby('production_countries').agg(\n",
        "    average_imdb_score=('imdb_score', 'mean'),\n",
        "    title_count=('title', 'count'))"
      ],
      "metadata": {
        "id": "9816kZ6yRz9U"
      },
      "execution_count": null,
      "outputs": []
    },
    {
      "cell_type": "code",
      "source": [
        "# Optional: filter countries with at least 20 titles to avoid small sample bias\n",
        "filtered_stats = country_rating_stats[country_rating_stats['title_count'] >= 20]"
      ],
      "metadata": {
        "id": "0jrfMcrVXfUO"
      },
      "execution_count": null,
      "outputs": []
    },
    {
      "cell_type": "code",
      "source": [
        "# Sort by average IMDb score\n",
        "top_countries = filtered_stats.sort_values(by='average_imdb_score', ascending=False).head(10)"
      ],
      "metadata": {
        "id": "_SpCaErcXmDG"
      },
      "execution_count": null,
      "outputs": []
    },
    {
      "cell_type": "code",
      "source": [
        "# Plotting\n",
        "plt.figure(figsize=(12, 6))\n",
        "sns.barplot(x=top_countries['average_imdb_score'], y=top_countries.index, palette='crest')\n",
        "plt.title('Top Countries Producing the Most High-Rated Content (IMDb, Min 20 Titles)')\n",
        "plt.xlabel('Average IMDb Score')\n",
        "plt.ylabel('Production Country')\n",
        "plt.tight_layout()\n",
        "plt.show()"
      ],
      "metadata": {
        "id": "ThhLk-hrWqxn"
      },
      "execution_count": null,
      "outputs": []
    },
    {
      "cell_type": "markdown",
      "source": [
        "### Trends Over Time Analysis"
      ],
      "metadata": {
        "id": "OckJxo1-SFYa"
      }
    },
    {
      "cell_type": "markdown",
      "source": [
        "**1. Number of Releases per Year:**\n",
        "\n",
        "    There's a clear growth trend in the number of releases, peaking around recent years, with some fluctuations."
      ],
      "metadata": {
        "id": "hXDxlsf2SFYc"
      }
    },
    {
      "cell_type": "code",
      "source": [
        "# Plotting\n",
        "sns.set(style=\"whitegrid\")\n",
        "plt.figure(figsize=(12, 6))\n",
        "sns.lineplot(x=releases_per_year.index, y=releases_per_year.values)\n",
        "plt.title('Number of Releases per Year')\n",
        "plt.xlabel('Year')\n",
        "plt.ylabel('Number of Titles')\n",
        "plt.tight_layout()\n",
        "plt.show()"
      ],
      "metadata": {
        "id": "Aa_CMemKSFYd"
      },
      "execution_count": null,
      "outputs": []
    },
    {
      "cell_type": "markdown",
      "source": [
        "**2. Genre Evolution:**\n",
        "\n",
        "    Genres like Drama, Comedy, and Documentary show consistent prominence, with visible shifts in their frequency over time."
      ],
      "metadata": {
        "id": "BPremakgSFYe"
      }
    },
    {
      "cell_type": "code",
      "source": [
        "# Plotting\n",
        "plt.figure(figsize=(14, 7))\n",
        "filtered_genre_trend.plot()\n",
        "plt.title('Genre Evolution Over Time (Top 5 Genres)')\n",
        "plt.xlabel('Release Year')\n",
        "plt.ylabel('Number of Titles')\n",
        "plt.legend(title='Genre')\n",
        "plt.grid(True)\n",
        "plt.tight_layout()\n",
        "plt.show()"
      ],
      "metadata": {
        "id": "kJdjDI-LSFYf"
      },
      "execution_count": null,
      "outputs": []
    },
    {
      "cell_type": "markdown",
      "source": [
        "**3. IMDb Score Trend:**\n",
        "  \n",
        "    The average IMDb score has remained relatively stable, with slight variations, indicating consistent quality perception over time."
      ],
      "metadata": {
        "id": "0-BvAgXsSFYj"
      }
    },
    {
      "cell_type": "code",
      "source": [
        "# Plotting\n",
        "sns.set(style=\"whitegrid\")\n",
        "plt.figure(figsize=(12, 6))\n",
        "sns.lineplot(x=imdb_score_trend.index, y=imdb_score_trend.values)\n",
        "plt.title('Average IMDb Score Over Time')\n",
        "plt.xlabel('Release Year')\n",
        "plt.ylabel('Average IMDb Score')\n",
        "plt.tight_layout()\n",
        "plt.show()"
      ],
      "metadata": {
        "id": "MW8cPRXSSFYk"
      },
      "execution_count": null,
      "outputs": []
    },
    {
      "cell_type": "markdown",
      "source": [
        "### IMDb Ratings & Popularity Analysis"
      ],
      "metadata": {
        "id": "CgtukJc1SRij"
      }
    },
    {
      "cell_type": "markdown",
      "source": [
        "**1. Top-Rated Titles by IMDb Score**"
      ],
      "metadata": {
        "id": "pdzEtxQGSRik"
      }
    },
    {
      "cell_type": "code",
      "source": [
        "# Plot:\n",
        "plt.figure(figsize=(12, 6))\n",
        "sns.barplot(data=top_10_imdb, x='imdb_score', y='title', palette='viridis')\n",
        "plt.title('Top 10 Titles by IMDb Score (Min 100 Votes)')\n",
        "plt.xlabel('IMDb Score')\n",
        "plt.ylabel('Title')\n",
        "plt.tight_layout()\n",
        "plt.show()"
      ],
      "metadata": {
        "id": "a3f0VTaHSRil"
      },
      "execution_count": null,
      "outputs": []
    },
    {
      "cell_type": "markdown",
      "source": [
        "**2. Top-Rated Titles by TMDb Score**"
      ],
      "metadata": {
        "id": "vgI6sc3GSRio"
      }
    },
    {
      "cell_type": "code",
      "source": [
        "# Plot:\n",
        "plt.figure(figsize=(12, 6))\n",
        "sns.barplot(data=top_10_tmdb, x='tmdb_score', y='title', palette='magma')\n",
        "plt.title('Top 10 Titles by TMDb Score (Filtered by Popularity > 0)')\n",
        "plt.xlabel('TMDb Score')\n",
        "plt.ylabel('Title')\n",
        "plt.tight_layout()\n",
        "plt.show()"
      ],
      "metadata": {
        "id": "m97Ewr4WSRio"
      },
      "execution_count": null,
      "outputs": []
    },
    {
      "cell_type": "markdown",
      "source": [
        "# **Conclusion**"
      ],
      "metadata": {
        "id": "gCX9965dhzqZ"
      }
    },
    {
      "cell_type": "markdown",
      "source": [
        "1. Amazon Prime's Content Strategy:\n",
        "\n",
        "    * Amazon Prime has a global reach but shows strong dominance in\n",
        "      English-speaking countries like the US, UK, and Canada.\n",
        "\n",
        "    * Indian content plays a major role, suggesting Amazon is targeting\n",
        "      emerging markets with localized offerings.\n",
        "\n",
        "    * Prime’s catalog leans heavily on movies, though its TV series\n",
        "      library has grown, especially in recent years.\n",
        "\n",
        "2. High-Rated Content Trends:\n",
        "\n",
        "    * Countries such as South Korea, UK, and France consistently deliver high IMDb-rated titles on Prime.\n",
        "\n",
        "    * Drama, Thriller, and Crime are the most consistently high-rated genres.\n",
        "\n",
        "    * Ratings correlate loosely with popularity—titles with more votes and broader genre appeal tend to score higher.\n",
        "\n",
        "3. Temporal Trends & Genre Shifts:\n",
        "\n",
        "    * Content production has accelerated over the past decade, especially post-2015, indicating Amazon's growing investment in original programming.\n",
        "\n",
        "    * Genre diversity is increasing. While Drama remains the most common, Documentaries, Animation, and Science Fiction are rising in frequency.\n",
        "\n",
        "    * There's no strong upward or downward trend in average IMDb scores, but recent years show greater volume and variability.\n",
        "\n",
        "4. Diversity & Reach:\n",
        "\n",
        "    * Amazon Prime’s catalog is becoming more multi-genre, with an increasing number of titles crossing traditional genre boundaries (e.g., Drama + Sci-Fi, Romance + Thriller).\n",
        "\n",
        "    * However, most titles come from a single production country, with fewer co-productions compared to global competitors like Netflix.\n",
        "\n",
        "5. Recommendations for Strategy:\n",
        "\n",
        "    * Content Acquisition: Amazon could boost content from underrepresented high-rating countries (e.g., Nordic nations, Argentina).\n",
        "\n",
        "    * Localized Genres: Invest more in regional hits and culturally specific genres, especially in Asia and Latin America.\n",
        "\n",
        "    * Genre Innovation: Encourage cross-genre experimentation and nurture niche genres with growing interest, like true crime and docuseries."
      ],
      "metadata": {
        "id": "Fjb1IsQkh3yE"
      }
    },
    {
      "cell_type": "markdown",
      "source": [
        "### ***Hurrah! You have successfully completed your Capstone Project !!!***"
      ],
      "metadata": {
        "id": "gIfDvo9L0UH2"
      }
    }
  ]
}